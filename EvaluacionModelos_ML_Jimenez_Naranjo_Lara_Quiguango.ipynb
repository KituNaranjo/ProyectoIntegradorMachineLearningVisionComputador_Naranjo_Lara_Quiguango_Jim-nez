{
  "nbformat": 4,
  "nbformat_minor": 0,
  "metadata": {
    "colab": {
      "provenance": []
    },
    "kernelspec": {
      "name": "python3",
      "display_name": "Python 3"
    },
    "language_info": {
      "name": "python"
    }
  },
  "cells": [
    {
      "cell_type": "markdown",
      "source": [
        "Proyecto Integrador P65\n",
        "\n",
        "Materias: Aprendizaje automático y visión por computadora.\n",
        "\n",
        "Integrantes: Zelena Jiménez, Sara Quiguango, Cristian Naranjo, Leandro Lara\n"
      ],
      "metadata": {
        "id": "nNiuhyuIHUco"
      }
    },
    {
      "cell_type": "markdown",
      "source": [
        "Modelo utilizados"
      ],
      "metadata": {
        "id": "ssbE5qABj8Yg"
      }
    },
    {
      "cell_type": "markdown",
      "source": [
        "SVM"
      ],
      "metadata": {
        "id": "Bq4eLUeVW7ea"
      }
    },
    {
      "cell_type": "code",
      "source": [
        "#Librerias\n",
        "import pandas as pd\n",
        "from sklearn.model_selection import StratifiedKFold\n",
        "from sklearn.preprocessing import StandardScaler\n",
        "from sklearn.svm import SVC\n",
        "from sklearn.model_selection import RandomizedSearchCV\n",
        "from sklearn.model_selection import GridSearchCV\n",
        "from sklearn.metrics import confusion_matrix, accuracy_score, precision_score, recall_score, f1_score, classification_report\n",
        "import numpy as np\n",
        "\n",
        "# Ruta al archivo CSV (asegúrate de cambiar esto a la ubicación correcta de tu archivo)\n",
        "file_path = '/content/archivo_limpio.csv'\n",
        "# Leer el archivo CSV en un DataFrame de pandas\n",
        "df = pd.read_csv(file_path, delimiter=';')\n",
        "\n",
        "def svm_model(df, ker=\"linear\",c=1.0, gmm=0.01,kf=5):\n",
        "  # Dividir el conjunto de datos en características (X) y etiquetas (y)\n",
        "  X1 = df.iloc[:, :-1]  # Seleccionar todas las filas menos la última columna para X\n",
        "  y = df.iloc[:, -1]  # Seleccionar la última columna completa para y\n",
        "\n",
        "  # Convertir todas las columnas a tipo categórico\n",
        "  X_initial = X1.astype('category')\n",
        "\n",
        "  # Transformar este subconjunto a variables dummy\n",
        "  X_dummies = pd.get_dummies(X_initial)\n",
        "\n",
        "  #print(X_dummies.dtypes)\n",
        "\n",
        "  # Imprimir el dataset transformado para comprobar\n",
        "  #print(\"Dataset transformado:\")\n",
        "  #print(X_dummies.head())  # Imprime las primeras 5 filas\n",
        "\n",
        "  # Normalizar las características para mejorar el rendimiento del SVM\n",
        "  scaler = StandardScaler()\n",
        "  X = scaler.fit_transform(X_dummies)\n",
        "\n",
        "  # Inicializar StratifiedKFold\n",
        "  skf = StratifiedKFold(n_splits=kf, shuffle=True, random_state=42)\n",
        "\n",
        "  # Almacenar las predicciones y etiquetas reales para el cálculo de la precisión final\n",
        "  all_y_test, all_y_pred = [], []\n",
        "  accuracies = []\n",
        "  k = 1\n",
        "  # Realizar la validación cruzada\n",
        "  for train_index, test_index in skf.split(X, y):\n",
        "      X_train, X_test = X[train_index], X[test_index]\n",
        "      y_train, y_test = y.iloc[train_index], y.iloc[test_index]\n",
        "\n",
        "    # Crear un clasificador SVM multiclase\n",
        "      svm_classifier = SVC(kernel=ker, C=c, gamma = gmm,decision_function_shape='ovr', random_state=5)\n",
        "      # Entrenar el clasificador SVM\n",
        "      svm_classifier.fit(X_train, y_train)\n",
        "\n",
        "      # Realizar predicciones en el conjunto de prueba\n",
        "      y_pred = svm_classifier.predict(X_test)\n",
        "\n",
        "      accuracy = accuracy_score(y_test, y_pred)\n",
        "      print(f'Precisión del modelo {k}: {accuracy * 100:.2f}%')\n",
        "      k+=1\n",
        "      # Almacenar las predicciones y etiquetas reales\n",
        "      all_y_test.append(y_test)\n",
        "      all_y_pred.append(y_pred)\n",
        "      accuracies.append(accuracy)\n",
        "\n",
        "  print(f'Precisión media del modelo de SVM: {np.mean(accuracies) * 100:.2f}%')\n",
        "  print(f'Desviación estándar de la precisión: {np.std(accuracies) * 100:.2f}%')\n",
        "  return all_y_test, all_y_pred\n",
        "\n",
        "#Se calcula linear dado a que se obtiene una menor desviación estandar\n",
        "all_y_testsvm, all_y_predsvm = svm_model(df,'linear',1.0, 0.01, 10)\n",
        "# Calcular la precisión del modelo en conjunto de prueba con mejor precisión\n",
        "accuracy = accuracy_score(all_y_testsvm[4], all_y_predsvm[4])\n",
        "print(f'\\nPrecisión del mejor clasificador SVM con k-fold: {accuracy * 100:.2f}%')\n",
        "\n",
        "# Calcular y mostrar métricas de clasificación\n",
        "print(\"Reporte de clasificación: \\n\", classification_report(all_y_testsvm[4], all_y_predsvm[4]))"
      ],
      "metadata": {
        "colab": {
          "base_uri": "https://localhost:8080/"
        },
        "id": "_k0LPUiIHWKA",
        "outputId": "507765a4-e2fb-4674-b145-f2058b87d151"
      },
      "execution_count": 110,
      "outputs": [
        {
          "output_type": "stream",
          "name": "stdout",
          "text": [
            "Precisión del modelo 1: 65.38%\n",
            "Precisión del modelo 2: 55.77%\n",
            "Precisión del modelo 3: 75.00%\n",
            "Precisión del modelo 4: 69.23%\n",
            "Precisión del modelo 5: 76.92%\n",
            "Precisión del modelo 6: 65.38%\n",
            "Precisión del modelo 7: 69.23%\n",
            "Precisión del modelo 8: 66.67%\n",
            "Precisión del modelo 9: 66.67%\n",
            "Precisión del modelo 10: 60.78%\n",
            "Precisión media del modelo de SVM: 67.10%\n",
            "Desviación estándar de la precisión: 5.85%\n",
            "\n",
            "Precisión del mejor clasificador SVM con k-fold: 76.92%\n",
            "Reporte de clasificación: \n",
            "               precision    recall  f1-score   support\n",
            "\n",
            "           0       0.79      0.73      0.76        26\n",
            "           1       0.75      0.81      0.78        26\n",
            "\n",
            "    accuracy                           0.77        52\n",
            "   macro avg       0.77      0.77      0.77        52\n",
            "weighted avg       0.77      0.77      0.77        52\n",
            "\n"
          ]
        }
      ]
    },
    {
      "cell_type": "code",
      "source": [
        "#Matriz de confusión - funcion\n",
        "import matplotlib.pyplot as plt\n",
        "import seaborn as sns\n",
        "def matriz_conf(y_test, y_pred):\n",
        "  cm = confusion_matrix(y_test, y_pred)\n",
        "  class_labels = ['Movimientos Validos 1', 'Movimientos no Validos 0']\n",
        "\n",
        "  # Visualiza la matriz de confusión con seaborn\n",
        "  sns.heatmap(cm, annot=True, fmt=\"d\", cmap=\"Blues\", cbar=False, xticklabels=class_labels, yticklabels=class_labels)\n",
        "  plt.xlabel(\"Predicciones\")\n",
        "  plt.ylabel(\"Valores reales\")\n",
        "  plt.show()\n",
        "matriz_conf(all_y_testsvm[4], all_y_predsvm[4])"
      ],
      "metadata": {
        "colab": {
          "base_uri": "https://localhost:8080/",
          "height": 449
        },
        "id": "zJbbuGm6cTR1",
        "outputId": "03669ad4-67bc-477b-fd09-5038ad149557"
      },
      "execution_count": 111,
      "outputs": [
        {
          "output_type": "display_data",
          "data": {
            "text/plain": [
              "<Figure size 640x480 with 1 Axes>"
            ],
            "image/png": "[encoded data removed]"
          },
          "metadata": {}
        }
      ]
    },
    {
      "cell_type": "markdown",
      "source": [
        "Redes Neuronales Aritificiales"
      ],
      "metadata": {
        "id": "t7ihZi0rW15a"
      }
    },
    {
      "cell_type": "code",
      "source": [
        "# Importar bibliotecas necesarias\n",
        "import pandas as pd\n",
        "from sklearn.model_selection import StratifiedKFold\n",
        "from sklearn.preprocessing import StandardScaler, LabelEncoder\n",
        "from sklearn.metrics import accuracy_score, classification_report, confusion_matrix\n",
        "import numpy as np\n",
        "from tensorflow import keras\n",
        "from tensorflow.keras import layers\n",
        "\n",
        "# Ruta al archivo CSV (asegúrate de cambiar esto a la ubicación correcta de tu archivo)\n",
        "file_path = '/content/archivo_limpio.csv'\n",
        "\n",
        "# Leer el archivo CSV en un DataFrame de pandas\n",
        "df = pd.read_csv(file_path, delimiter=';')\n",
        "\n",
        "def ann_model(df, n_splits=5, epochs=30, batch_size=64):\n",
        "    # Dividir el conjunto de datos en características (X) y etiquetas (y)\n",
        "    y = df['VALIDEZ']  # Selecciona la columna 'VALIDEZ' como etiquetas\n",
        "    X1 = df.drop(columns=['VALIDEZ'])  # Usa todas las demás columnas como características\n",
        "\n",
        "    # Convertir todas las columnas a tipo categórico\n",
        "    X_initial = X1.astype('category')\n",
        "\n",
        "    # Transformar este subconjunto a variables dummy\n",
        "    X_dummies = pd.get_dummies(X_initial)\n",
        "\n",
        "    # Convertir etiquetas a números usando LabelEncoder\n",
        "    label_encoder = LabelEncoder()\n",
        "    y = label_encoder.fit_transform(y)\n",
        "\n",
        "    # Normalizar las características para mejorar el rendimiento de la red neuronal\n",
        "    scaler = StandardScaler()\n",
        "    X = scaler.fit_transform(X_dummies)\n",
        "\n",
        "    # Inicializar StratifiedKFold\n",
        "    skf = StratifiedKFold(n_splits=n_splits, shuffle=True, random_state=5)\n",
        "\n",
        "    # Almacenar las predicciones y etiquetas reales para el cálculo de la precisión final\n",
        "    best_accuracy = 0\n",
        "    best_model = None\n",
        "    best_y_test = None\n",
        "    best_y_pred = None\n",
        "\n",
        "    # Realizar la validación cruzada\n",
        "    for k, (train_index, test_index) in enumerate(skf.split(X, y), 1):\n",
        "        X_train, X_test = X[train_index], X[test_index]\n",
        "        y_train, y_test = y[train_index], y[test_index]\n",
        "\n",
        "        # Inicializar el modelo dentro del bucle k-fold\n",
        "        model = keras.Sequential([\n",
        "            layers.Dense(60, activation='relu', input_dim=X.shape[1]), # Capa de entrada y primera capa densa de la red neuronal\n",
        "            layers.Dense(30, activation='relu'),\n",
        "            layers.Dense(np.unique(y).size, activation='softmax')  # Número de neuronas igual al número de clases\n",
        "        ])\n",
        "\n",
        "        # Compilar el modelo\n",
        "        model.compile(optimizer='adam', loss='sparse_categorical_crossentropy', metrics=['accuracy'])\n",
        "\n",
        "        # Entrenar el modelo\n",
        "        model.fit(X_train, y_train, epochs=epochs, batch_size=batch_size, verbose=0)\n",
        "\n",
        "        # Realizar predicciones en el conjunto de prueba\n",
        "        y_pred_probabilities = model.predict(X_test)\n",
        "        y_pred = y_pred_probabilities.argmax(axis=1)\n",
        "\n",
        "        # Calcular la precisión del modelo\n",
        "        accuracy = accuracy_score(y_test, y_pred)\n",
        "        print(f'Precisión del modelo {k}: {accuracy * 100:.2f}%')\n",
        "\n",
        "        # Si la precisión actual es la mejor, guardar el modelo\n",
        "        if accuracy > best_accuracy:\n",
        "            best_accuracy = accuracy\n",
        "            best_model = model\n",
        "            best_y_test = y_test\n",
        "            best_y_pred = y_pred\n",
        "\n",
        "    print(f'\\nPrecisión del mejor clasificador Neural Network con k-fold: {best_accuracy * 100:.2f}%')\n",
        "\n",
        "    # Calcular y mostrar métricas de clasificación\n",
        "    print(\"Reporte de clasificación: \\n\", classification_report(best_y_test, best_y_pred))\n",
        "    matriz_conf(best_y_test, best_y_pred)\n",
        "\n",
        "    return best_y_test, best_y_pred\n",
        "\n",
        "# Aplicar el algoritmo de Red Neuronal con validación cruzada K-Fold\n",
        "y_test_ann, y_pred_ann = ann_model(df, n_splits=10, epochs=30, batch_size=64)\n"
      ],
      "metadata": {
        "colab": {
          "base_uri": "https://localhost:8080/",
          "height": 1000
        },
        "id": "LsmYQzgF1BR8",
        "outputId": "ffffeaea-c258-4362-f266-4c94ca8aabc9"
      },
      "execution_count": 122,
      "outputs": [
        {
          "output_type": "stream",
          "name": "stdout",
          "text": [
            "2/2 [==============================] - 0s 10ms/step\n",
            "Precisión del modelo 1: 61.54%\n",
            "2/2 [==============================] - 0s 19ms/step\n",
            "Precisión del modelo 2: 80.77%\n",
            "2/2 [==============================] - 0s 6ms/step\n",
            "Precisión del modelo 3: 76.92%\n",
            "2/2 [==============================] - 0s 4ms/step\n",
            "Precisión del modelo 4: 73.08%\n",
            "2/2 [==============================] - 0s 6ms/step\n",
            "Precisión del modelo 5: 59.62%\n",
            "2/2 [==============================] - 0s 6ms/step\n",
            "Precisión del modelo 6: 71.15%\n",
            "2/2 [==============================] - 0s 8ms/step\n",
            "Precisión del modelo 7: 75.00%\n",
            "2/2 [==============================] - 0s 6ms/step\n",
            "Precisión del modelo 8: 70.59%\n",
            "2/2 [==============================] - 0s 6ms/step\n",
            "Precisión del modelo 9: 76.47%\n",
            "2/2 [==============================] - 0s 5ms/step\n",
            "Precisión del modelo 10: 60.78%\n",
            "\n",
            "Precisión del mejor clasificador Neural Network con k-fold: 80.77%\n",
            "Reporte de clasificación: \n",
            "               precision    recall  f1-score   support\n",
            "\n",
            "           0       0.80      0.80      0.80        25\n",
            "           1       0.81      0.81      0.81        27\n",
            "\n",
            "    accuracy                           0.81        52\n",
            "   macro avg       0.81      0.81      0.81        52\n",
            "weighted avg       0.81      0.81      0.81        52\n",
            "\n"
          ]
        },
        {
          "output_type": "display_data",
          "data": {
            "text/plain": [
              "<Figure size 640x480 with 1 Axes>"
            ],
            "image/png": "[encoded data removed]"
          },
          "metadata": {}
        }
      ]
    },
    {
      "cell_type": "code",
      "source": [
        "# Importar bibliotecas necesarias\n",
        "import pandas as pd\n",
        "from sklearn.model_selection import train_test_split\n",
        "from sklearn.preprocessing import StandardScaler\n",
        "from sklearn.ensemble import RandomForestClassifier\n",
        "from sklearn.metrics import accuracy_score\n",
        "\n",
        "# Ruta al archivo CSV (asegúrate de cambiar esto a la ubicación correcta de tu archivo)\n",
        "file_path = '/content/archivo_limpio.csv'\n",
        "\n",
        "# Leer el archivo CSV en un DataFrame de pandas\n",
        "df = pd.read_csv(file_path, delimiter=';')\n",
        "\n",
        "def randomForest_model(df,kf=5):\n",
        "  # Dividir el conjunto de datos en características (X) y etiquetas (y)\n",
        "  y = df['VALIDEZ']  # Selecciona la columna 'VALIDEZ' como etiquetas\n",
        "  X1 = df.drop(columns=['VALIDEZ'])  # Usa todas las demás columnas como características\n",
        "\n",
        "  # Convertir todas las columnas a tipo categórico\n",
        "  X_initial = X1.astype('category')\n",
        "\n",
        "  # Transformar este subconjunto a variables dummy\n",
        "  X_dummies = pd.get_dummies(X_initial)\n",
        "  #print(X_dummies.dtypes)\n",
        "\n",
        "  # Imprimir el dataset transformado para comprobar\n",
        "  #print(\"Dataset transformado:\")\n",
        "  #print(X_dummies.head())  # Imprime las primeras 5 filas\n",
        "\n",
        "  # Normalizar las características para mejorar el rendimiento del Random Forest\n",
        "  scaler = StandardScaler()\n",
        "  X = scaler.fit_transform(X_dummies)\n",
        "\n",
        "  # Inicializar StratifiedKFold\n",
        "  skf = StratifiedKFold(n_splits=kf, shuffle=True, random_state=42)\n",
        "\n",
        "  # Almacenar las predicciones y etiquetas reales para el cálculo de la precisión final\n",
        "  all_y_test, all_y_pred = [], []\n",
        "  accuracies = []\n",
        "  k=1\n",
        "  # Realizar la validación cruzada\n",
        "  for train_index, test_index in skf.split(X, y):\n",
        "      X_train, X_test = X[train_index], X[test_index]\n",
        "      y_train, y_test = y.iloc[train_index], y.iloc[test_index]\n",
        "\n",
        "      # Crear un clasificador Random Forest\n",
        "      random_forest_classifier = RandomForestClassifier(n_estimators=100, random_state=5)\n",
        "\n",
        "      # Entrenar el clasificador Random Forest\n",
        "      random_forest_classifier.fit(X_train, y_train)\n",
        "\n",
        "      # Realizar predicciones en el conjunto de prueba\n",
        "      y_pred = random_forest_classifier.predict(X_test)\n",
        "      # Calcular la precisión del modelo\n",
        "      accuracy = accuracy_score(y_test, y_pred)\n",
        "      print(f'Precisión del modelo {k}: {accuracy * 100:.2f}%')\n",
        "      k+=1\n",
        "      # Almacenar las predicciones y etiquetas reales\n",
        "      all_y_test.append(y_test)\n",
        "      all_y_pred.append(y_pred)\n",
        "      accuracies.append(accuracy)\n",
        "\n",
        "  # Calcular la precisión del modelo en conjunto de prueba combinado\n",
        "  print(f'Precisión media del modelo de Random Forest: {np.mean(accuracies) * 100:.2f}%')\n",
        "  print(f'Desviación estándar de la precisión: {np.std(accuracies) * 100:.2f}%')\n",
        "  return all_y_test, all_y_pred\n",
        "\n",
        "y_test_rf, y_pred_rf = randomForest_model(df,10)\n",
        "accuracy = accuracy_score(y_test_rf[2], y_pred_rf[2])\n",
        "print(f'\\nPrecisión del mejor clasificador Random Forest con k-fold: {accuracy * 100:.2f}%')\n",
        "\n",
        "# Calcular y mostrar métricas de clasificación\n",
        "print(\"Reporte de clasificación: \\n\", classification_report(y_test_rf[2], y_pred_rf[2]))\n",
        "\n",
        "#Matriz\n",
        "matriz_conf(y_test_rf[2], y_pred_rf[2])"
      ],
      "metadata": {
        "colab": {
          "base_uri": "https://localhost:8080/",
          "height": 865
        },
        "id": "YjlwXizfgR8I",
        "outputId": "f562beb1-0153-4829-ceda-38cc384b56ae"
      },
      "execution_count": null,
      "outputs": [
        {
          "output_type": "stream",
          "name": "stdout",
          "text": [
            "Precisión del modelo 1: 73.08%\n",
            "Precisión del modelo 2: 67.31%\n",
            "Precisión del modelo 3: 78.85%\n",
            "Precisión del modelo 4: 67.31%\n",
            "Precisión del modelo 5: 76.92%\n",
            "Precisión del modelo 6: 61.54%\n",
            "Precisión del modelo 7: 76.92%\n",
            "Precisión del modelo 8: 74.51%\n",
            "Precisión del modelo 9: 74.51%\n",
            "Precisión del modelo 10: 70.59%\n",
            "Precisión media del modelo de Random Forest: 72.15%\n",
            "Desviación estándar de la precisión: 5.14%\n",
            "\n",
            "Precisión del mejor clasificador Random Forest con k-fold: 78.85%\n",
            "Reporte de clasificación: \n",
            "               precision    recall  f1-score   support\n",
            "\n",
            "           0       0.75      0.84      0.79        25\n",
            "           1       0.83      0.74      0.78        27\n",
            "\n",
            "    accuracy                           0.79        52\n",
            "   macro avg       0.79      0.79      0.79        52\n",
            "weighted avg       0.79      0.79      0.79        52\n",
            "\n"
          ]
        },
        {
          "output_type": "display_data",
          "data": {
            "text/plain": [
              "<Figure size 640x480 with 1 Axes>"
            ],
            "image/png": "[encoded data removed]"
          },
          "metadata": {}
        }
      ]
    }
  ]
}